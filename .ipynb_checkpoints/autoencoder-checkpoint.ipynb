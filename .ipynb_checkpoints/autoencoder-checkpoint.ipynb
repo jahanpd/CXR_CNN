{
 "cells": [
  {
   "cell_type": "code",
   "execution_count": null,
   "metadata": {
    "scrolled": true
   },
   "outputs": [],
   "source": [
    "import os\n",
    "from pathlib import Path\n",
    "import numpy as np\n",
    "import pandas as pd\n",
    "from algorithms.autoencoder import autoencoder as ae\n",
    "import tensorflow as tf\n",
    "from sklearn.preprocessing import OneHotEncoder as onehot\n",
    "from imblearn.over_sampling import RandomOverSampler\n",
    "\n",
    "path = \"/media/jahan/solo/\"\n",
    "# path = \"/Volumes/JAHAN/\"\n",
    "os.chdir(path)\n",
    "\n",
    "# prep data\n",
    "def prep(csv):   \n",
    "    labels = pd.read_csv(csv)\n",
    "    labels = labels[labels[\"Frontal/Lateral\"] == \"Frontal\"]\n",
    "    normal = labels[labels[\"No Finding\"] == 1]\n",
    "    normal = normal.Path\n",
    "    abnormal = labels[labels[\"No Finding\"] != 1]\n",
    "    abnormal = abnormal.Path\n",
    "    print(len(normal),len(abnormal))\n",
    "\n",
    "    x_a = pd.concat([normal,abnormal]).values\n",
    "    x_b = pd.concat([normal.sample(frac=1),abnormal.sample(frac=1)]).values\n",
    "    x_c = pd.concat([abnormal.sample(n=len(normal)),normal.sample(n=len(abnormal),replace=True)]).values\n",
    "    \n",
    "    x = np.stack((x_a,x_b,x_c), axis=-1)\n",
    "    \n",
    "    y = np.full(len(normal),0)\n",
    "    y = np.append(y, np.full(len(abnormal),1))\n",
    "    \n",
    "    sm = RandomOverSampler(random_state=42)\n",
    "    X_res, y_res = sm.fit_resample(x, y)\n",
    "    \n",
    "    print(X_res.shape)\n",
    "    \n",
    "    X = np.stack((X_res[:,0], X_res[:,1], X_res[:,2], y_res), axis=-1)\n",
    "    np.random.shuffle(X)\n",
    "    \n",
    "    return X[:,0], X[:,1], X[:,2], X[:,3]\n",
    "\n",
    "x_a,x_b,x_c, y = prep(\"CheXpert-v1.0-small/train.csv\")\n",
    "\n",
    "print(y)\n",
    "\n",
    "config = tf.ConfigProto()\n",
    "config.gpu_options.per_process_gpu_memory_fraction = 0.9\n",
    "# config.gpu_options.allow_growth = True\n",
    "sess = tf.Session(config=config)\n",
    "\n",
    "\n",
    "save_path = \"/home/jahan/Documents/CXR_CNN/output/triple\"\n",
    "# save_path = \"/Users/jahan/Documents/research/CXR_CNN/output\"\n",
    "print(x_a.size)"
   ]
  },
  {
   "cell_type": "code",
   "execution_count": null,
   "metadata": {},
   "outputs": [],
   "source": [
    "strategy = tf.distribute.MirroredStrategy()\n",
    "# strategy = tf.distribute.experimental.CentralStorageStrategy()\n",
    "with strategy.scope():\n",
    "    encoder = ae(save_path=save_path)\n",
    "#     encoder.build(load=\"/triple.ckpt\")\n",
    "    encoder.build()"
   ]
  },
  {
   "cell_type": "code",
   "execution_count": null,
   "metadata": {
    "scrolled": true
   },
   "outputs": [],
   "source": [
    "with strategy.scope():\n",
    "    history = encoder.train(a_paths=x_a, b_paths=x_b, c_paths=x_c, epochs=5)"
   ]
  },
  {
   "cell_type": "code",
   "execution_count": null,
   "metadata": {},
   "outputs": [],
   "source": [
    "labels = pd.read_csv(\"CheXpert-v1.0-small/valid.csv\")\n",
    "labels = labels[labels[\"Frontal/Lateral\"] == \"Frontal\"]\n",
    "normal = labels[labels[\"No Finding\"] == 1]\n",
    "normal = normal.Path\n",
    "abnormal = labels[labels[\"No Finding\"] != 1]\n",
    "abnormal = abnormal.Path\n",
    "print(len(normal),len(abnormal))\n",
    "\n",
    "x_a = pd.concat([normal,abnormal]).values\n",
    "x_b = pd.concat([normal.sample(frac=1),abnormal.sample(frac=1)]).values\n",
    "x_c = pd.concat([abnormal.sample(n=len(normal)),normal.sample(n=len(abnormal),replace=True)]).values\n",
    "\n",
    "y = np.full(len(normal),0)\n",
    "y = np.append(y, np.full(len(abnormal),1))\n",
    "\n",
    "print(x_a.size)"
   ]
  },
  {
   "cell_type": "code",
   "execution_count": null,
   "metadata": {
    "scrolled": false
   },
   "outputs": [],
   "source": [
    "probs = encoder.predict_proba(x_a,x_b,x_c, y)\n",
    "print(probs)"
   ]
  },
  {
   "cell_type": "code",
   "execution_count": null,
   "metadata": {},
   "outputs": [],
   "source": [
    "from sklearn.metrics import roc_auc_score\n",
    "\n",
    "auc = roc_auc_score(y, probs)\n",
    "\n",
    "print(auc)"
   ]
  },
  {
   "cell_type": "code",
   "execution_count": null,
   "metadata": {},
   "outputs": [],
   "source": []
  },
  {
   "cell_type": "code",
   "execution_count": null,
   "metadata": {},
   "outputs": [],
   "source": []
  }
 ],
 "metadata": {
  "kernelspec": {
   "display_name": "Python 3",
   "language": "python",
   "name": "python3"
  },
  "language_info": {
   "codemirror_mode": {
    "name": "ipython",
    "version": 3
   },
   "file_extension": ".py",
   "mimetype": "text/x-python",
   "name": "python",
   "nbconvert_exporter": "python",
   "pygments_lexer": "ipython3",
   "version": "3.7.4"
  }
 },
 "nbformat": 4,
 "nbformat_minor": 2
}
