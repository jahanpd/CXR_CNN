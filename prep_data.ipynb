{
 "cells": [
  {
   "cell_type": "code",
   "execution_count": 114,
   "metadata": {
    "scrolled": true
   },
   "outputs": [
    {
     "name": "stdout",
     "output_type": "stream",
     "text": [
      "512.229376\n",
      "512.229376\n",
      "512.229376\n",
      "512.229376\n",
      "512.229376\n",
      "512.229376\n",
      "512.229376\n",
      "512.229376\n",
      "512.229376\n",
      "512.229376\n",
      "512.229376\n"
     ]
    },
    {
     "ename": "NameError",
     "evalue": "name 'fx' is not defined",
     "output_type": "error",
     "traceback": [
      "\u001b[0;31m---------------------------------------------------------------------------\u001b[0m",
      "\u001b[0;31mNameError\u001b[0m                                 Traceback (most recent call last)",
      "\u001b[0;32m<ipython-input-114-f96f72ab197b>\u001b[0m in \u001b[0;36m<module>\u001b[0;34m\u001b[0m\n\u001b[1;32m     97\u001b[0m                             b=masks.reshape((rows,256,256)))\n\u001b[1;32m     98\u001b[0m \u001b[0;34m\u001b[0m\u001b[0m\n\u001b[0;32m---> 99\u001b[0;31m \u001b[0mfx\u001b[0m\u001b[0;34m.\u001b[0m\u001b[0mclose\u001b[0m\u001b[0;34m(\u001b[0m\u001b[0;34m)\u001b[0m\u001b[0;34m\u001b[0m\u001b[0;34m\u001b[0m\u001b[0m\n\u001b[0m\u001b[1;32m    100\u001b[0m \u001b[0mfy\u001b[0m\u001b[0;34m.\u001b[0m\u001b[0mclose\u001b[0m\u001b[0;34m(\u001b[0m\u001b[0;34m)\u001b[0m\u001b[0;34m\u001b[0m\u001b[0;34m\u001b[0m\u001b[0m\n\u001b[1;32m    101\u001b[0m \u001b[0mprint\u001b[0m\u001b[0;34m(\u001b[0m\u001b[0mcount\u001b[0m\u001b[0;34m)\u001b[0m\u001b[0;34m\u001b[0m\u001b[0;34m\u001b[0m\u001b[0m\n",
      "\u001b[0;31mNameError\u001b[0m: name 'fx' is not defined"
     ]
    }
   ],
   "source": [
    "import os\n",
    "import glob\n",
    "import pydicom\n",
    "import numpy as np\n",
    "import pandas as pd\n",
    "from pathlib import Path\n",
    "from scipy import ndimage\n",
    "from cv2 import resize\n",
    "from auxillary.mask_functions import rle2mask\n",
    "\n",
    "\n",
    "labels = pd.read_csv(\"/home/jahan/Downloads/siim-train-test/train-rle.csv\")\n",
    "ids = labels.ImageId.values\n",
    "rles = labels[' EncodedPixels'].values\n",
    "path = \"/home/jahan/Downloads/siim-train-test/dicom-images-train\"\n",
    "save_path = '/media/jahan/solo/cxr_data/'\n",
    "\n",
    "# USE IF NEEDING TO LABEL AS PTx or NOT\n",
    "#labels = pd.read_csv(\"/Users/jahanpd/Downloads/pneumothorax/train-rle.csv\")\n",
    "#normal = []\n",
    "#for n in range(len(labels)):\n",
    "#    if \"-1\" in str(labels[\" EncodedPixels\"].values[n]):\n",
    "#        normal.append(labels[\"ImageId\"].values[n])\n",
    "\n",
    "paths = []\n",
    "\n",
    "count = [0,1,1]\n",
    "for filename in Path(path).glob('**/*.dcm'):\n",
    "    paths.append(str(filename))\n",
    "\n",
    "total = np.array(())\n",
    "ptx = np.array(())\n",
    "masks = np.array(())\n",
    "norm = np.array(())\n",
    "\n",
    "for idx in range(len(ids)):\n",
    "    # get the ID of the filname and find its index in the labels array\n",
    "    filename = [s for s in paths if ids[idx] in s]\n",
    "    ds = pydicom.dcmread(filename[0]) # extract array\n",
    "    array = ds.pixel_array\n",
    "    \n",
    "    # resize image\n",
    "    small = resize(array, (256,256))\n",
    "    \n",
    "    count[0] += 1 # keep track of size of arrays\n",
    "    total = np.append(total, small)\n",
    "    \n",
    "    if (\"-1\" in rles[idx]):\n",
    "        count[1] += 1\n",
    "        norm = np.append(norm, small)\n",
    "    \n",
    "    else:\n",
    "        count[2] += 1\n",
    "        ptx = np.append(ptx, small)\n",
    "        mask = rle2mask(rles[idx],1024,1024)\n",
    "        mask = resize(mask, (256,256))\n",
    "        masks = np.append(masks, mask)\n",
    "            \n",
    "    # save total\n",
    "    if total.nbytes > 512*1000*1000:\n",
    "        print(total.nbytes/(1000*1000))\n",
    "        rows = int(len(total)/(256*256))\n",
    "        np.savez_compressed(save_path+str(int(count[0]/512))+'.npz',\n",
    "                            a=total.reshape((rows,256,256)))\n",
    "                    \n",
    "        total = np.array(())\n",
    "    \n",
    "    # save normal\n",
    "    if norm.nbytes > 512*1000*1000:\n",
    "        rows = int(len(norm)/(256*256))\n",
    "        np.savez_compressed(save_path+\"labelled/norm/\"+str(int(count[1]/512))+'.npz',\n",
    "                            a=norm.reshape((rows,256,256)))\n",
    "                    \n",
    "        norm = np.array(())\n",
    "                            \n",
    "    # save ptx\n",
    "    if ptx.nbytes > 512*1000*1000:\n",
    "        rows = int(len(ptx)/(256*256))\n",
    "        np.savez_compressed(save_path+'labelled/ptx/'+str(int(count[2]/512))+'.npz',\n",
    "                            a=ptx.reshape((rows,256,256)),\n",
    "                            b=masks.reshape((rows,256,256)))\n",
    "                    \n",
    "        ptx = np.array(())\n",
    "        masks = np.array(())\n",
    "\n",
    "rows = int(len(total)/(256*256))\n",
    "np.savez_compressed(save_path+str((count[0]/512))+'.npz',\n",
    "                            a=total.reshape((rows,256,256)))\n",
    "\n",
    "rows = int(len(norm)/(256*256))\n",
    "np.savez_compressed(save_path+'labelled/norm/'+str((count[1]/512))+'.npz',\n",
    "                            a=norm.reshape((rows,256,256)))\n",
    "\n",
    "rows = int(len(ptx)/(256*256))\n",
    "np.savez_compressed(save_path+'labelled/ptx/'+str((count[2]/512))+'.npz',\n",
    "                            a=ptx.reshape((rows,256,256)),\n",
    "                            b=masks.reshape((rows,256,256)))\n",
    "\n",
    "fx.close()\n",
    "fy.close()\n",
    "print(count)"
   ]
  },
  {
   "cell_type": "code",
   "execution_count": 2,
   "metadata": {},
   "outputs": [
    {
     "name": "stdout",
     "output_type": "stream",
     "text": [
      "[0. 0. 0. ... 0. 0. 0.]\n"
     ]
    }
   ],
   "source": [
    "x = np.loadtxt(save_path+'x.csv',delimiter=\",\")\n",
    "print(x[1])"
   ]
  },
  {
   "cell_type": "code",
   "execution_count": null,
   "metadata": {},
   "outputs": [],
   "source": [
    "from matplotlib import pyplot as plt\n",
    "\n",
    "pixels = np.array(x[1], dtype='float').reshape((1512,1512))\n",
    "plt.imshow(pixels, cmap='gray')\n",
    "\n",
    "plt.show()"
   ]
  },
  {
   "cell_type": "code",
   "execution_count": 7,
   "metadata": {
    "scrolled": true
   },
   "outputs": [
    {
     "name": "stdout",
     "output_type": "stream",
     "text": [
      "(256, 256)\n"
     ]
    },
    {
     "data": {
      "image/png": "[encoded data removed]",
      "text/plain": [
       "<Figure size 432x288 with 1 Axes>"
      ]
     },
     "metadata": {
      "needs_background": "light"
     },
     "output_type": "display_data"
    }
   ],
   "source": [
    "from cv2 import resize\n",
    "\n",
    "ds = pydicom.dcmread(paths[0])\n",
    "array = ds.pixel_array\n",
    "rotated = resize(array, (256,256))\n",
    "rotated = ndimage.rotate(rotated, 10, reshape=False)\n",
    "print(rotated.shape)\n",
    "from matplotlib import pyplot as plt\n",
    "\n",
    "plt.imshow(rotated, cmap='gray')\n",
    "\n",
    "plt.show()"
   ]
  },
  {
   "cell_type": "code",
   "execution_count": 68,
   "metadata": {},
   "outputs": [],
   "source": [
    "labels = pd.read_csv(\"/home/jahan/Downloads/siim-train-test/train-rle.csv\")"
   ]
  },
  {
   "cell_type": "code",
   "execution_count": 69,
   "metadata": {},
   "outputs": [],
   "source": [
    "ptx = labels[labels[' EncodedPixels'] != \" -1\"]"
   ]
  },
  {
   "cell_type": "code",
   "execution_count": 70,
   "metadata": {},
   "outputs": [],
   "source": [
    "from auxillary.mask_functions import rle2mask\n",
    "\n",
    "test = rle2mask(labels[' EncodedPixels'][2],1024,1024)"
   ]
  },
  {
   "cell_type": "code",
   "execution_count": 71,
   "metadata": {},
   "outputs": [
    {
     "data": {
      "image/png": "[encoded data removed]",
      "text/plain": [
       "<Figure size 432x288 with 1 Axes>"
      ]
     },
     "metadata": {
      "needs_background": "light"
     },
     "output_type": "display_data"
    }
   ],
   "source": [
    "from matplotlib import pyplot as plt\n",
    "\n",
    "plt.imshow(resize(test, (256,256)), cmap='gray')\n",
    "\n",
    "plt.show()"
   ]
  },
  {
   "cell_type": "code",
   "execution_count": 96,
   "metadata": {},
   "outputs": [
    {
     "data": {
      "text/plain": [
       "'1.2.276.0.7230010.3.1.4.8323329.4029.1517875180.735654.'"
      ]
     },
     "execution_count": 96,
     "metadata": {},
     "output_type": "execute_result"
    }
   ],
   "source": [
    "paths[1].split(\"/\")[-1][0:-4]"
   ]
  },
  {
   "cell_type": "code",
   "execution_count": 82,
   "metadata": {},
   "outputs": [
    {
     "data": {
      "text/plain": [
       "'1.2.276.0.7230010.3.1.4.8323329.5597.1517875188.959090'"
      ]
     },
     "execution_count": 82,
     "metadata": {},
     "output_type": "execute_result"
    }
   ],
   "source": [
    "labels['ImageId'].values[0]"
   ]
  },
  {
   "cell_type": "code",
   "execution_count": 85,
   "metadata": {},
   "outputs": [
    {
     "data": {
      "text/plain": [
       "0"
      ]
     },
     "execution_count": 85,
     "metadata": {},
     "output_type": "execute_result"
    }
   ],
   "source": [
    "np.where(labels['ImageId'].values == '1.2.276.0.7230010.3.1.4.8323329.5597.1517875188.959090')[0][0]"
   ]
  },
  {
   "cell_type": "code",
   "execution_count": 90,
   "metadata": {},
   "outputs": [
    {
     "data": {
      "text/plain": [
       "4"
      ]
     },
     "execution_count": 90,
     "metadata": {},
     "output_type": "execute_result"
    }
   ],
   "source": [
    "1028%512"
   ]
  },
  {
   "cell_type": "code",
   "execution_count": null,
   "metadata": {},
   "outputs": [],
   "source": []
  }
 ],
 "metadata": {
  "kernelspec": {
   "display_name": "Python 3",
   "language": "python",
   "name": "python3"
  },
  "language_info": {
   "codemirror_mode": {
    "name": "ipython",
    "version": 3
   },
   "file_extension": ".py",
   "mimetype": "text/x-python",
   "name": "python",
   "nbconvert_exporter": "python",
   "pygments_lexer": "ipython3",
   "version": "3.7.4"
  }
 },
 "nbformat": 4,
 "nbformat_minor": 2
}
